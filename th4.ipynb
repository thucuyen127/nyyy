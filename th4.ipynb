{
 "cells": [
  {
   "cell_type": "markdown",
   "metadata": {},
   "source": [
    "THỰC HÀNH LAMBDA - APPLY\n",
    "\n",
    "1. Sử dụng bộ dữ liệu baseball.csv"
   ]
  },
  {
   "cell_type": "code",
   "execution_count": 2,
   "metadata": {},
   "outputs": [
    {
     "name": "stdout",
     "output_type": "stream",
     "text": [
      "       id     player  year  stint team  lg    g   ab   r    h  ...   rbi   sb  \\\n",
      "0   88641  womacto01  2006      2  CHN  NL   19   50   6   14  ...   2.0  1.0   \n",
      "1   88643  schilcu01  2006      1  BOS  AL   31    2   0    1  ...   0.0  0.0   \n",
      "2   88645  myersmi01  2006      1  NYA  AL   62    0   0    0  ...   0.0  0.0   \n",
      "3   88649  helliri01  2006      1  MIL  NL   20    3   0    0  ...   0.0  0.0   \n",
      "4   88650  johnsra05  2006      1  NYA  AL   33    6   0    1  ...   0.0  0.0   \n",
      "..    ...        ...   ...    ...  ...  ..  ...  ...  ..  ...  ...   ...  ...   \n",
      "95  89525  benitar01  2007      2  FLO  NL   34    0   0    0  ...   0.0  0.0   \n",
      "96  89526  benitar01  2007      1  SFN  NL   19    0   0    0  ...   0.0  0.0   \n",
      "97  89530  ausmubr01  2007      1  HOU  NL  117  349  38   82  ...  25.0  6.0   \n",
      "98  89533   aloumo01  2007      1  NYN  NL   87  328  51  112  ...  49.0  3.0   \n",
      "99  89534  alomasa02  2007      1  NYN  NL    8   22   1    3  ...   0.0  0.0   \n",
      "\n",
      "     cs  bb    so  ibb  hbp   sh   sf  gidp  \n",
      "0   1.0   4   4.0  0.0  0.0  3.0  0.0   0.0  \n",
      "1   0.0   0   1.0  0.0  0.0  0.0  0.0   0.0  \n",
      "2   0.0   0   0.0  0.0  0.0  0.0  0.0   0.0  \n",
      "3   0.0   0   2.0  0.0  0.0  0.0  0.0   0.0  \n",
      "4   0.0   0   4.0  0.0  0.0  0.0  0.0   0.0  \n",
      "..  ...  ..   ...  ...  ...  ...  ...   ...  \n",
      "95  0.0   0   0.0  0.0  0.0  0.0  0.0   0.0  \n",
      "96  0.0   0   0.0  0.0  0.0  0.0  0.0   0.0  \n",
      "97  1.0  37  74.0  3.0  6.0  4.0  1.0  11.0  \n",
      "98  0.0  27  30.0  5.0  2.0  0.0  3.0  13.0  \n",
      "99  0.0   0   3.0  0.0  0.0  0.0  0.0   0.0  \n",
      "\n",
      "[100 rows x 23 columns]\n"
     ]
    }
   ],
   "source": [
    "import pandas as pd\n",
    "import csv\n",
    "import numpy as np\n",
    "df = pd.read_csv(\"C:\\\\Users\\\\DELL\\\\Downloads\\\\baseball.csv - baseball.csv.csv\")\n",
    "\n",
    "print(df)"
   ]
  },
  {
   "cell_type": "markdown",
   "metadata": {},
   "source": [
    "2. Hãy xây dựng hàm lambda theo công thức sau: $\\frac{x + log(x)}{\\sqrt(x)}$"
   ]
  },
  {
   "cell_type": "code",
   "execution_count": 3,
   "metadata": {},
   "outputs": [
    {
     "name": "stderr",
     "output_type": "stream",
     "text": [
      "C:\\Users\\DELL\\anaconda3\\lib\\site-packages\\pandas\\core\\series.py:726: RuntimeWarning: divide by zero encountered in log10\n",
      "  result = getattr(ufunc, method)(*inputs, **kwargs)\n"
     ]
    },
    {
     "data": {
      "text/html": [
       "<div>\n",
       "<style scoped>\n",
       "    .dataframe tbody tr th:only-of-type {\n",
       "        vertical-align: middle;\n",
       "    }\n",
       "\n",
       "    .dataframe tbody tr th {\n",
       "        vertical-align: top;\n",
       "    }\n",
       "\n",
       "    .dataframe thead th {\n",
       "        text-align: right;\n",
       "    }\n",
       "</style>\n",
       "<table border=\"1\" class=\"dataframe\">\n",
       "  <thead>\n",
       "    <tr style=\"text-align: right;\">\n",
       "      <th></th>\n",
       "      <th>ab</th>\n",
       "    </tr>\n",
       "  </thead>\n",
       "  <tbody>\n",
       "    <tr>\n",
       "      <th>0</th>\n",
       "      <td>7.311338</td>\n",
       "    </tr>\n",
       "    <tr>\n",
       "      <th>1</th>\n",
       "      <td>1.627074</td>\n",
       "    </tr>\n",
       "    <tr>\n",
       "      <th>2</th>\n",
       "      <td>-inf</td>\n",
       "    </tr>\n",
       "    <tr>\n",
       "      <th>3</th>\n",
       "      <td>2.007517</td>\n",
       "    </tr>\n",
       "    <tr>\n",
       "      <th>4</th>\n",
       "      <td>2.767169</td>\n",
       "    </tr>\n",
       "    <tr>\n",
       "      <th>...</th>\n",
       "      <td>...</td>\n",
       "    </tr>\n",
       "    <tr>\n",
       "      <th>95</th>\n",
       "      <td>-inf</td>\n",
       "    </tr>\n",
       "    <tr>\n",
       "      <th>96</th>\n",
       "      <td>-inf</td>\n",
       "    </tr>\n",
       "    <tr>\n",
       "      <th>97</th>\n",
       "      <td>18.817656</td>\n",
       "    </tr>\n",
       "    <tr>\n",
       "      <th>98</th>\n",
       "      <td>18.249686</td>\n",
       "    </tr>\n",
       "    <tr>\n",
       "      <th>99</th>\n",
       "      <td>4.976621</td>\n",
       "    </tr>\n",
       "  </tbody>\n",
       "</table>\n",
       "<p>100 rows × 1 columns</p>\n",
       "</div>"
      ],
      "text/plain": [
       "           ab\n",
       "0    7.311338\n",
       "1    1.627074\n",
       "2        -inf\n",
       "3    2.007517\n",
       "4    2.767169\n",
       "..        ...\n",
       "95       -inf\n",
       "96       -inf\n",
       "97  18.817656\n",
       "98  18.249686\n",
       "99   4.976621\n",
       "\n",
       "[100 rows x 1 columns]"
      ]
     },
     "execution_count": 3,
     "metadata": {},
     "output_type": "execute_result"
    }
   ],
   "source": [
    "ct = df[[\"ab\"]]\n",
    "ct.apply(lambda x: (x + np.log10(x))/np.sqrt(x))\n"
   ]
  },
  {
   "cell_type": "markdown",
   "metadata": {},
   "source": [
    "3. Hãy thực thi hàm apply với lambda ở trên theo chiều ngang và chiều dọc đối với 1 Series do bạn chọn từ data frame ở bước 1"
   ]
  },
  {
   "cell_type": "code",
   "execution_count": 4,
   "metadata": {},
   "outputs": [
    {
     "data": {
      "text/plain": [
       "0      19\n",
       "1      31\n",
       "2      62\n",
       "3      20\n",
       "4      33\n",
       "     ... \n",
       "95     34\n",
       "96     19\n",
       "97    117\n",
       "98     87\n",
       "99      8\n",
       "Length: 100, dtype: int64"
      ]
     },
     "execution_count": 4,
     "metadata": {},
     "output_type": "execute_result"
    }
   ],
   "source": [
    "df1 = df[[\"g\"]]\n",
    "df1.apply(lambda x: x[\"g\"], axis = 1)"
   ]
  },
  {
   "cell_type": "markdown",
   "metadata": {},
   "source": [
    "4. Hãy thực thi hàm apply với lambda ở trên theo chiều ngang và chiều dọc với 1 nhóm cột (hoặc có thể là toàn bộ) của data frame ở bước 1"
   ]
  },
  {
   "cell_type": "code",
   "execution_count": 5,
   "metadata": {},
   "outputs": [
    {
     "data": {
      "text/html": [
       "<div>\n",
       "<style scoped>\n",
       "    .dataframe tbody tr th:only-of-type {\n",
       "        vertical-align: middle;\n",
       "    }\n",
       "\n",
       "    .dataframe tbody tr th {\n",
       "        vertical-align: top;\n",
       "    }\n",
       "\n",
       "    .dataframe thead th {\n",
       "        text-align: right;\n",
       "    }\n",
       "</style>\n",
       "<table border=\"1\" class=\"dataframe\">\n",
       "  <thead>\n",
       "    <tr style=\"text-align: right;\">\n",
       "      <th></th>\n",
       "      <th>r</th>\n",
       "    </tr>\n",
       "  </thead>\n",
       "  <tbody>\n",
       "    <tr>\n",
       "      <th>0</th>\n",
       "      <td>106</td>\n",
       "    </tr>\n",
       "    <tr>\n",
       "      <th>1</th>\n",
       "      <td>100</td>\n",
       "    </tr>\n",
       "    <tr>\n",
       "      <th>2</th>\n",
       "      <td>100</td>\n",
       "    </tr>\n",
       "    <tr>\n",
       "      <th>3</th>\n",
       "      <td>100</td>\n",
       "    </tr>\n",
       "    <tr>\n",
       "      <th>4</th>\n",
       "      <td>100</td>\n",
       "    </tr>\n",
       "    <tr>\n",
       "      <th>...</th>\n",
       "      <td>...</td>\n",
       "    </tr>\n",
       "    <tr>\n",
       "      <th>95</th>\n",
       "      <td>100</td>\n",
       "    </tr>\n",
       "    <tr>\n",
       "      <th>96</th>\n",
       "      <td>100</td>\n",
       "    </tr>\n",
       "    <tr>\n",
       "      <th>97</th>\n",
       "      <td>138</td>\n",
       "    </tr>\n",
       "    <tr>\n",
       "      <th>98</th>\n",
       "      <td>151</td>\n",
       "    </tr>\n",
       "    <tr>\n",
       "      <th>99</th>\n",
       "      <td>101</td>\n",
       "    </tr>\n",
       "  </tbody>\n",
       "</table>\n",
       "<p>100 rows × 1 columns</p>\n",
       "</div>"
      ],
      "text/plain": [
       "      r\n",
       "0   106\n",
       "1   100\n",
       "2   100\n",
       "3   100\n",
       "4   100\n",
       "..  ...\n",
       "95  100\n",
       "96  100\n",
       "97  138\n",
       "98  151\n",
       "99  101\n",
       "\n",
       "[100 rows x 1 columns]"
      ]
     },
     "execution_count": 5,
     "metadata": {},
     "output_type": "execute_result"
    }
   ],
   "source": [
    "df_new = df[[\"r\"]]\n",
    "df_new.apply(lambda x: x + 100, axis = 0)"
   ]
  },
  {
   "cell_type": "markdown",
   "metadata": {},
   "source": [
    "THỰC HÀNH APPLY VÀ HÀM TỰ XÂY DỰNG\n",
    "\n",
    "Trong thực tế không phải lúc nào cũng sử dụng lambda với apply, mà có thể sử dụng apply với các hàm có sẵn khác hoặc do lập trình viên tự xây dựng."
   ]
  },
  {
   "cell_type": "markdown",
   "metadata": {},
   "source": [
    "1. Hãy áp dụng nhóm hàm sum, mean, sqrt, log của thư viện numpy cho data frame ở trên theo chiều ngang và chiều dọc"
   ]
  },
  {
   "cell_type": "code",
   "execution_count": 77,
   "metadata": {},
   "outputs": [
    {
     "name": "stdout",
     "output_type": "stream",
     "text": [
      "g    5238\n",
      "dtype: int64\n",
      "g    52.38\n",
      "dtype: float64\n",
      "            g\n",
      "0    4.358899\n",
      "1    5.567764\n",
      "2    7.874008\n",
      "3    4.472136\n",
      "4    5.744563\n",
      "..        ...\n",
      "95   5.830952\n",
      "96   4.358899\n",
      "97  10.816654\n",
      "98   9.327379\n",
      "99   2.828427\n",
      "\n",
      "[100 rows x 1 columns]\n",
      "           g\n",
      "0   2.944439\n",
      "1   3.433987\n",
      "2   4.127134\n",
      "3   2.995732\n",
      "4   3.496508\n",
      "..       ...\n",
      "95  3.526361\n",
      "96  2.944439\n",
      "97  4.762174\n",
      "98  4.465908\n",
      "99  2.079442\n",
      "\n",
      "[100 rows x 1 columns]\n"
     ]
    }
   ],
   "source": [
    "df3 = df[[\"g\"]]\n",
    "s= df3.apply(lambda x:np.sum(x), axis = 0)\n",
    "m= df3.apply(lambda x:np.mean(x), axis = 0)\n",
    "sq= df3.apply(lambda x:np.sqrt(x), axis = 0)\n",
    "l= df3.apply(lambda x:np.log(x), axis = 0)\n",
    "print(s)\n",
    "print(m)\n",
    "print(sq)\n",
    "print(l)"
   ]
  },
  {
   "cell_type": "markdown",
   "metadata": {},
   "source": [
    "2. Hãy xây dựng một hàm có tên là my_function có tham số đầu vào là x. Phương pháp tính toán của hàm như sau:\n",
    " (i) Nếu x >0  thì trả về log10(x); (ii) Nếu x <= 0  thì trả về $e^{x}$"
   ]
  },
  {
   "cell_type": "code",
   "execution_count": 78,
   "metadata": {},
   "outputs": [
    {
     "name": "stdout",
     "output_type": "stream",
     "text": [
      "nhap n: 6\n",
      "0.7781512503836436\n"
     ]
    }
   ],
   "source": [
    "def my_function(x):\n",
    "    if x > 0:\n",
    "        kq = np.log10(x)\n",
    "    else:\n",
    "        kq = np.exp**x\n",
    "    return kq\n",
    "n = int(input('nhap n: '))\n",
    "a = my_function(n)\n",
    "print(a)"
   ]
  },
  {
   "cell_type": "markdown",
   "metadata": {},
   "source": [
    "3. Hãy sử dụng hàm apply để gọi my_function áp dụng cho data frame ở bước 1 ở trên"
   ]
  },
  {
   "cell_type": "code",
   "execution_count": 79,
   "metadata": {},
   "outputs": [
    {
     "data": {
      "text/plain": [
       "0     1.278754\n",
       "1     1.491362\n",
       "2     1.792392\n",
       "3     1.301030\n",
       "4     1.518514\n",
       "        ...   \n",
       "95    1.531479\n",
       "96    1.278754\n",
       "97    2.068186\n",
       "98    1.939519\n",
       "99    0.903090\n",
       "Length: 100, dtype: float64"
      ]
     },
     "execution_count": 79,
     "metadata": {},
     "output_type": "execute_result"
    }
   ],
   "source": [
    "df4 = df[[\"g\"]]\n",
    "df4.apply(lambda x: my_function(x['g']), axis = 1)"
   ]
  },
  {
   "cell_type": "code",
   "execution_count": null,
   "metadata": {},
   "outputs": [],
   "source": []
  }
 ],
 "metadata": {
  "kernelspec": {
   "display_name": "Python 3",
   "language": "python",
   "name": "python3"
  },
  "language_info": {
   "codemirror_mode": {
    "name": "ipython",
    "version": 3
   },
   "file_extension": ".py",
   "mimetype": "text/x-python",
   "name": "python",
   "nbconvert_exporter": "python",
   "pygments_lexer": "ipython3",
   "version": "3.8.5"
  }
 },
 "nbformat": 4,
 "nbformat_minor": 2
}
